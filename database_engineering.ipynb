{
 "cells": [
  {
   "cell_type": "code",
   "execution_count": 1,
   "metadata": {
    "collapsed": true
   },
   "outputs": [],
   "source": [
    "# Dependencies\n",
    "import pandas as pd\n",
    "import os\n",
    "from sqlalchemy.ext.declarative import declarative_base\n",
    "Base = declarative_base()\n",
    "from sqlalchemy.orm import Session\n",
    "from sqlalchemy import create_engine\n",
    "from sqlalchemy import Column, Integer, String, Float\n",
    "\n",
    "# Set up sqlite database\n",
    "engine = create_engine('sqlite:///hawaii.sqlite')\n",
    "\n",
    "# Import data\n",
    "csv_path = os.path.join(\"clean_measurements.csv\")\n",
    "measurementscsv = pd.read_csv(csv_path)\n",
    "csv_path = os.path.join(\"clean_stations.csv\")\n",
    "stationscsv = pd.read_csv(csv_path)"
   ]
  },
  {
   "cell_type": "code",
   "execution_count": 2,
   "metadata": {},
   "outputs": [],
   "source": [
    "# Create stations\n",
    "class stations(Base):\n",
    "    __tablename__ = \"stations\"\n",
    "    id = Column(Integer, primary_key=True)\n",
    "    station = Column(String(255))\n",
    "    name = Column(String(255))\n",
    "    latitude = Column(Float)\n",
    "    longitude = Column(Float)\n",
    "    elevation = Column(Float) \n",
    "    \n",
    "# Create measurements\n",
    "class measurements(Base):\n",
    "    __tablename__ = \"measurements\"\n",
    "    id = Column(Integer, primary_key=True)\n",
    "    station = Column(String(255))\n",
    "    date = Column(String(10))\n",
    "    prcp = Column(Float)\n",
    "    tobs = Column(Integer)    \n",
    "    \n",
    "# Create tables in database\n",
    "Base.metadata.create_all(engine)\n",
    "session = Session(bind=engine)"
   ]
  },
  {
   "cell_type": "code",
   "execution_count": 3,
   "metadata": {
    "collapsed": true
   },
   "outputs": [],
   "source": [
    "# Clear previously-added rows from both tables\n",
    "station_list = session.query(stations)\n",
    "for station in station_list:\n",
    "    session.delete(station)\n",
    "    \n",
    "measurements_list = session.query(measurements)\n",
    "for measurement in measurements_list:\n",
    "    session.delete(measurement)"
   ]
  },
  {
   "cell_type": "code",
   "execution_count": 4,
   "metadata": {
    "collapsed": true
   },
   "outputs": [],
   "source": [
    "# Add data to stations\n",
    "for index, row in stationscsv.iterrows():\n",
    "    name = stations(\n",
    "        station = row[0],\n",
    "        name = row[1],\n",
    "        latitude = row[2],\n",
    "        longitude = row[3],\n",
    "        elevation = row[4],)\n",
    "    session.add(name)\n",
    "session.commit()\n",
    "\n",
    "# Add data to measurements\n",
    "for index, row in measurementscsv.iterrows():\n",
    "    name = measurements(\n",
    "        station = row[0],\n",
    "        date = row[1],\n",
    "        prcp = row[2],\n",
    "        tobs = row[3],)\n",
    "    session.add(name)\n",
    "session.commit()"
   ]
  },
  {
   "cell_type": "code",
   "execution_count": 5,
   "metadata": {},
   "outputs": [
    {
     "name": "stdout",
     "output_type": "stream",
     "text": [
      "Stations: 9\n",
      "Measurements: 18103\n"
     ]
    }
   ],
   "source": [
    "# Check that data was imported correctly \n",
    "station_list = session.query(stations)\n",
    "total = 0\n",
    "for station in station_list:\n",
    "    total = total + 1\n",
    "print(\"Stations: \" + str(total))\n",
    "\n",
    "measurements_list = session.query(measurements)\n",
    "total = 0\n",
    "for measurement in measurements_list:\n",
    "    total = total + 1\n",
    "print(\"Measurements: \" + str(total))"
   ]
  },
  {
   "cell_type": "code",
   "execution_count": null,
   "metadata": {
    "collapsed": true
   },
   "outputs": [],
   "source": []
  }
 ],
 "metadata": {
  "kernelspec": {
   "display_name": "Python 3",
   "language": "python",
   "name": "python3"
  },
  "language_info": {
   "codemirror_mode": {
    "name": "ipython",
    "version": 3
   },
   "file_extension": ".py",
   "mimetype": "text/x-python",
   "name": "python",
   "nbconvert_exporter": "python",
   "pygments_lexer": "ipython3",
   "version": "3.6.3"
  }
 },
 "nbformat": 4,
 "nbformat_minor": 2
}
