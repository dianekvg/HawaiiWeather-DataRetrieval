{
 "cells": [
  {
   "cell_type": "code",
   "execution_count": 1,
   "metadata": {
    "collapsed": true
   },
   "outputs": [],
   "source": [
    "# Dependencies\n",
    "from sqlalchemy import create_engine\n",
    "from sqlalchemy import Column, Integer, String, Float\n",
    "from sqlalchemy.ext.declarative import declarative_base\n",
    "Base = declarative_base()\n",
    "from sqlalchemy.ext.automap import automap_base\n",
    "from sqlalchemy.orm import Session\n",
    "import pandas as pd\n",
    "from datetime import timedelta\n",
    "import datetime\n",
    "import matplotlib.pyplot as plt\n",
    "import numpy as np\n",
    "import matplotlib.dates as mdates\n",
    "from matplotlib import style\n",
    "style.use('seaborn')\n",
    "import matplotlib\n",
    "from sqlalchemy import func\n",
    "import matplotlib.pyplot as plt; plt.rcdefaults()\n",
    "\n",
    "# Create database connection\n",
    "engine = create_engine('sqlite:///hawaii.sqlite')\n",
    "Base.metadata.create_all(engine)\n",
    "\n",
    "# Declare a Base\n",
    "Base = automap_base()\n",
    "\n",
    "# Reflect the tables\n",
    "Base.prepare(engine, reflect=True)\n",
    "\n",
    "# Assign classes to a variables\n",
    "Station = Base.classes.stations\n",
    "Measurement = Base.classes.measurements\n",
    "\n",
    "# Create a session\n",
    "session = Session(engine)"
   ]
  },
  {
   "cell_type": "code",
   "execution_count": 2,
   "metadata": {},
   "outputs": [],
   "source": [
    "# Query precipitations from measurement data\n",
    "percip = session.query(Measurement.date, Measurement.prcp).all()\n",
    "\n",
    "# Load the results into a dataframe, find latest record's date, identify one year prior to latest date and filter out old records\n",
    "precipitation = pd.DataFrame(percip, columns=['date', 'prcp'])\n",
    "precipitation['date'] = pd.to_datetime(precipitation['date'])\n",
    "precipitation[\"previousyear\"] = precipitation[\"date\"] - timedelta(days=365)\n",
    "prevyear = [precipitation.previousyear.max()]\n",
    "precipitation[\"diff\"] = precipitation[\"date\"] - (pd.to_datetime(prevyear))\n",
    "precipitation = precipitation[(precipitation['diff'] > \"0 days\") == True]\n",
    "precipitation['date'] = precipitation['date'].dt.date\n",
    "precipitation = precipitation.drop('previousyear', 1)\n",
    "precipitation = precipitation.drop('diff', 1)\n",
    "precipitation.set_index('date', inplace=True,)"
   ]
  },
  {
   "cell_type": "code",
   "execution_count": 3,
   "metadata": {},
   "outputs": [
    {
     "data": {
      "image/png": "[encoded data removed]",
      "text/plain": [
       "<matplotlib.figure.Figure at 0x2cf65d1ee80>"
      ]
     },
     "metadata": {},
     "output_type": "display_data"
    }
   ],
   "source": [
    "# Plot precipitation records\n",
    "x_axis = precipitation.index.tolist()\n",
    "y_axis = precipitation[\"prcp\"].tolist()\n",
    "plt.figure(figsize=(15,8))\n",
    "plt.bar(x_axis, y_axis, color='c', align=\"edge\")\n",
    "plt.title(\"365 Days of Hawaiian Precipitation\")\n",
    "plt.xlabel(\"Date\")\n",
    "plt.ylabel(\"Precipitation\")\n",
    "plt.savefig('Percipitation.png')\n",
    "plt.show()"
   ]
  },
  {
   "cell_type": "code",
   "execution_count": 4,
   "metadata": {},
   "outputs": [
    {
     "name": "stdout",
     "output_type": "stream",
     "text": [
      "There are 9 total weather stations.\n"
     ]
    }
   ],
   "source": [
    "# Calculate the total number of stations.\n",
    "query = session.query(Station).all()\n",
    "station_list = session.query(Station)\n",
    "total = 0\n",
    "for station in station_list:\n",
    "    total = total + 1\n",
    "print(\"There are \" + str(total) + \" total weather stations.\")"
   ]
  },
  {
   "cell_type": "code",
   "execution_count": 5,
   "metadata": {},
   "outputs": [
    {
     "data": {
      "text/plain": [
       "[('USC00519281', 2772),\n",
       " ('USC00513117', 2696),\n",
       " ('USC00519397', 2685),\n",
       " ('USC00519523', 2572),\n",
       " ('USC00516128', 2484),\n",
       " ('USC00514830', 1937),\n",
       " ('USC00511918', 1932),\n",
       " ('USC00517948', 683),\n",
       " ('USC00518838', 342)]"
      ]
     },
     "execution_count": 5,
     "metadata": {},
     "output_type": "execute_result"
    }
   ],
   "source": [
    "# Order stations by most active\n",
    "session.query(Measurement.station, func.count(Measurement.station)).group_by(Measurement.station).order_by(func.count(Measurement.station).desc()).all()"
   ]
  },
  {
   "cell_type": "code",
   "execution_count": 6,
   "metadata": {
    "collapsed": true
   },
   "outputs": [],
   "source": [
    "# Query tobs from measurement data\n",
    "tobs = session.query(Measurement.station, Measurement.date, Measurement.tobs).all()\n",
    "\n",
    "# Load the results into a dataframe, find latest record's date, identify one year prior to latest date and filter out old records\n",
    "temps = pd.DataFrame(tobs, columns=['station','date', 'tobs'])\n",
    "temps['date'] = pd.to_datetime(temps['date'])\n",
    "temps[\"previousyear\"] = temps[\"date\"] - timedelta(days=365)\n",
    "prevyear = [temps.previousyear.max()]\n",
    "temps[\"diff\"] = temps[\"date\"] - (pd.to_datetime(prevyear))\n",
    "temps = temps[(temps['diff'] > \"0 days\") == True]\n",
    "temps['date'] = temps['date'].dt.date\n",
    "temps['temp'] = temps['tobs']\n",
    "stationtemps = temps[(temps['station'] == \"USC00519281\") == True]\n",
    "stationtemps = stationtemps.drop('previousyear', 1)\n",
    "stationtemps = stationtemps.drop('diff', 1)\n",
    "stationtemps = stationtemps.drop('tobs', 1)\n",
    "stationtemps = stationtemps.drop('date', 1)\n",
    "stationtemps = stationtemps.drop('station', 1)\n",
    "vacationtemps = temps.drop('diff', 1)\n",
    "vacationtemps = vacationtemps.drop('tobs', 1)\n",
    "vacationtemps = vacationtemps.drop('station', 1)\n",
    "vacationtemps = vacationtemps.drop('previousyear', 1)\n",
    "vacationtemps[\"nextyear\"] = vacationtemps[\"date\"] + timedelta(days=365)\n",
    "vacationtemps = vacationtemps.drop('date', 1)"
   ]
  },
  {
   "cell_type": "code",
   "execution_count": 7,
   "metadata": {},
   "outputs": [
    {
     "data": {
      "image/png": "[encoded data removed]",
      "text/plain": [
       "<matplotlib.figure.Figure at 0x2cf67351128>"
      ]
     },
     "metadata": {},
     "output_type": "display_data"
    }
   ],
   "source": [
    "# Plot the results as a histogram with bins=12\n",
    "plt.figure(figsize=(15,8))\n",
    "matplotlib.pyplot.hist(stationtemps[\"temp\"], bins=12, color='c')\n",
    "plt.title(\"Temperature Frequency at Station USC00519281\")\n",
    "plt.xlabel(\"Temperature (F)\")\n",
    "plt.ylabel(\"Temperature Frequency\")\n",
    "plt.savefig('USC00519281Frequency.png')\n",
    "plt.show()"
   ]
  },
  {
   "cell_type": "code",
   "execution_count": 168,
   "metadata": {},
   "outputs": [
    {
     "name": "stdout",
     "output_type": "stream",
     "text": [
      "Please enter the dates of your upcoming vacation in %Y-%m-%d format.\n",
      "Your end date must be on or before 8-23-2018.\n",
      "\n",
      "Start date: 2018-01-01\n",
      "End date: 2018-01-30\n",
      "\n",
      "Here is the predicted forecast for your trip, based on weather data from last year at the same time:\n"
     ]
    },
    {
     "data": {
      "image/png": "[encoded data removed]",
      "text/plain": [
       "<matplotlib.figure.Figure at 0x2cf68633dd8>"
      ]
     },
     "metadata": {},
     "output_type": "display_data"
    }
   ],
   "source": [
    "# Create function\n",
    "\n",
    "def calc_temps(start, end):\n",
    "    startdate = pd.to_datetime(start)\n",
    "    enddate = pd.to_datetime(end)\n",
    "    tempdata = []\n",
    "    xaxis = []\n",
    "    for index, row in vacationtemps.iterrows():\n",
    "        nextyear = pd.to_datetime(row[1])\n",
    "        if nextyear >= startdate and nextyear <= enddate:\n",
    "            tempdata.append(row[0])\n",
    "    label = ['temp']\n",
    "    temps = pd.DataFrame(tempdata, columns=label)\n",
    "    max = temps[\"temp\"].max()\n",
    "    min = temps[\"temp\"].min()\n",
    "    avg = np.round(temps[\"temp\"].mean(), decimals=1) \n",
    "    lowvar = avg - min\n",
    "    highvar = max - avg \n",
    "    plt.figure(figsize=(5,8))\n",
    "    plt.bar(x_pos, avg, color='c', yerr=[[lowvar],[highvar]])\n",
    "    plt.ylabel(\"Temp (F)\")\n",
    "    plt.title(\"Vacation Weather Prediction\")\n",
    "    plt.xticks([0], ['Average Estimated Temperature with Variance'])\n",
    "    plt.savefig('PredictedVacationWeather.png')\n",
    "    print (\"\")\n",
    "    print (\"Here is the predicted forecast for your trip, based on weather data from last year at the same time:\")\n",
    "    plt.show()\n",
    "    \n",
    "# Call function\n",
    "\n",
    "print (\"Please enter the dates of your upcoming vacation in %Y-%m-%d format.\")\n",
    "print (\"Your end date must be on or before 8-23-2018.\")\n",
    "print (\"\")\n",
    "calc_temps(input(\"Start date: \"), input(\"End date: \"))"
   ]
  },
  {
   "cell_type": "code",
   "execution_count": null,
   "metadata": {},
   "outputs": [],
   "source": []
  },
  {
   "cell_type": "code",
   "execution_count": null,
   "metadata": {
    "collapsed": true
   },
   "outputs": [],
   "source": []
  },
  {
   "cell_type": "code",
   "execution_count": null,
   "metadata": {},
   "outputs": [],
   "source": []
  },
  {
   "cell_type": "markdown",
   "metadata": {
    "collapsed": true
   },
   "source": [
    "Now that you have completed your initial analysis, design a Flask api based on the queries that you have just developed.\n",
    "Use FLASK to create the following routes:\n",
    "\n",
    "\n",
    "/api/v1.0/precipitation =\n",
    "\n",
    "Query for the dates and temperature observations from the last year.\n",
    "Convert the query results to a Dictionary using date as the key and tobs as the value.\n",
    "Return the json representation of your dictionary.\n",
    "\n",
    "\n",
    "/api/v1.0/stations =\n",
    "\n",
    "Return a json list of stations from the dataset.\n",
    "\n",
    "\n",
    "/api/v1.0/tobs =\n",
    "\n",
    "Return a json list of Temperature Observations (tobs) for the previous year\n",
    "\n",
    "\n",
    "/api/v1.0/<start> and /api/v1.0/<start>/<end> =\n",
    "\n",
    "Return a json list of the minimum temperature, the average temperature, and the max temperature for\n",
    "a given start or start-end range.\n",
    "When given the start only, calculate TMIN, TAVG, and TMAX for all dates greater than and equal to the start date.\n",
    "When given the start and the end date, calculate the TMIN, TAVG, and TMAX for dates between the start and end date inclusive.\n",
    "\n",
    "\n",
    "You will need to join the station and measurement tables for some of the analysis queries.\n",
    "Use Flask jsonify to convert your api data into a valid json response object."
   ]
  },
  {
   "cell_type": "code",
   "execution_count": null,
   "metadata": {
    "collapsed": true
   },
   "outputs": [],
   "source": []
  }
 ],
 "metadata": {
  "kernelspec": {
   "display_name": "Python 3",
   "language": "python",
   "name": "python3"
  },
  "language_info": {
   "codemirror_mode": {
    "name": "ipython",
    "version": 3
   },
   "file_extension": ".py",
   "mimetype": "text/x-python",
   "name": "python",
   "nbconvert_exporter": "python",
   "pygments_lexer": "ipython3",
   "version": "3.6.3"
  }
 },
 "nbformat": 4,
 "nbformat_minor": 2
}
